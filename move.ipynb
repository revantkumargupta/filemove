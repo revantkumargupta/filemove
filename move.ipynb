{
  "nbformat": 4,
  "nbformat_minor": 0,
  "metadata": {
    "colab": {
      "provenance": [],
      "mount_file_id": "18yAUWv0jWroExqGKb8qqv2TZYK7yCw9d",
      "authorship_tag": "ABX9TyPmept2lvLHY/GylaQXPsIl",
      "include_colab_link": true
    },
    "kernelspec": {
      "name": "python3",
      "display_name": "Python 3"
    },
    "language_info": {
      "name": "python"
    }
  },
  "cells": [
    {
      "cell_type": "markdown",
      "metadata": {
        "id": "view-in-github",
        "colab_type": "text"
      },
      "source": [
        "<a href=\"https://colab.research.google.com/github/rahulhingve/Daily-useful-scripts/blob/main/move_or_copy_folder_files_in_Gdrive.ipynb\" target=\"_parent\"><img src=\"https://colab.research.google.com/assets/colab-badge.svg\" alt=\"Open In Colab\"/></a>"
      ]
    },
    {
      "cell_type": "code",
      "source": [
        "from google.colab import drive\n",
        "import shutil\n",
        "import os\n",
        "import time\n",
        "\n",
        "drive.mount('/content/drive')"
      ],
      "metadata": {
        "id": "OZNAiCuTc9_B"
      },
      "execution_count": null,
      "outputs": []
    },
    {
      "cell_type": "code",
      "execution_count": 10,
      "metadata": {
        "colab": {
          "base_uri": "https://localhost:8080/"
        },
        "id": "goZjROYFWQw7",
        "outputId": "aa0ec247-bc67-44ba-a531-4a86d78661b5"
      },
      "outputs": [
        {
          "output_type": "stream",
          "name": "stdout",
          "text": [
            "Drive already mounted at /content/drive; to attempt to forcibly remount, call drive.mount(\"/content/drive\", force_remount=True).\n",
            "Moved The Boys (2024) S04E08 2160p AMZN WEB-DL [Hindi DDP5.1 + English DDP5.1] H.265 (XEBEC-Ionicboy).mkv from /content/drive/Shareddrives/Stark Media Hub (June)/2 to /content/drive/Shareddrives/Stark Media Hub (June)/3\n",
            "Total time taken: 0.06 seconds\n",
            "Operation completed.\n"
          ]
        }
      ],
      "source": [
        "def move_mkv_files(src_folder, dest_folder):\n",
        "    start_time = time.time()\n",
        "\n",
        "    if not os.path.exists(dest_folder):\n",
        "        os.makedirs(dest_folder)\n",
        "\n",
        "    for root, dirs, files in os.walk(src_folder):\n",
        "        for filename in files:\n",
        "            if filename.endswith('.mkv'):\n",
        "                src_path = os.path.join(root, filename)\n",
        "                dest_path = os.path.join(dest_folder, filename)\n",
        "                shutil.move(src_path, dest_path)\n",
        "                print(f'Moved {filename} from {src_folder} to {dest_folder}')\n",
        "\n",
        "    end_time = time.time()\n",
        "    elapsed_time = end_time - start_time\n",
        "    print(f'Total time taken: {elapsed_time:.2f} seconds')\n",
        "\n",
        "src_folder = \"/content/drive/Shareddrives/Stark Media Hub (June)/2\"\n",
        "dest_folder = \"/content/drive/Shareddrives/Stark Media Hub (June)/3\"\n",
        "\n",
        "move_mkv_files(src_folder, dest_folder)\n",
        "\n",
        "print('Operation completed.')\n"
      ]
    }
  ]
}
