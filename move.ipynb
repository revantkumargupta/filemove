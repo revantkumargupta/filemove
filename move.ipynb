{
  "nbformat": 4,
  "nbformat_minor": 0,
  "metadata": {
    "colab": {
      "provenance": [],
      "mount_file_id": "18yAUWv0jWroExqGKb8qqv2TZYK7yCw9d",
      "authorship_tag": "ABX9TyPmept2lvLHY/GylaQXPsIl",
      "include_colab_link": true
    },
    "kernelspec": {
      "name": "python3",
      "display_name": "Python 3"
    },
    "language_info": {
      "name": "python"
    }
  },
  "cells": [
    {
      "cell_type": "markdown",
      "metadata": {
        "id": "view-in-github",
        "colab_type": "text"
      },
      "source": [
        "<a href=\"https://colab.research.google.com/github/rahulhingve/Daily-useful-scripts/blob/main/move_or_copy_folder_files_in_Gdrive.ipynb\" target=\"_parent\"><img src=\"https://colab.research.google.com/assets/colab-badge.svg\" alt=\"Open In Colab\"/></a>"
      ]
    },
    {
      "cell_type": "code",
      "source": [
        "from google.colab import drive\n",
        "import shutil\n",
        "import os\n",
        "import time\n",
        "\n",
        "\n",
        "drive.mount('/content/drive')"
      ],
      "metadata": {
        "id": "OZNAiCuTc9_B"
      },
      "execution_count": null,
      "outputs": []
    },
    {
      "cell_type": "code",
      "execution_count": 10,
      "metadata": {
        "colab": {
          "base_uri": "https://localhost:8080/"
        },
        "id": "goZjROYFWQw7",
        "outputId": "aa0ec247-bc67-44ba-a531-4a86d78661b5"
      },
      "outputs": [
        {
          "output_type": "stream",
          "name": "stdout",
          "text": [
            "Drive already mounted at /content/drive; to attempt to forcibly remount, call drive.mount(\"/content/drive\", force_remount=True).\n",
            "Moved A001_02281744_C001.mov from /content/drive/MyDrive/GDFlix to /content/drive/MyDrive/Videos hdr\n",
            "Moved A001_03061801_C007.mov from /content/drive/MyDrive/GDFlix to /content/drive/MyDrive/Videos hdr\n",
            "Moved A001_03061801_C006.mov from /content/drive/MyDrive/GDFlix to /content/drive/MyDrive/Videos hdr\n",
            "Moved IMG_0627.MOV from /content/drive/MyDrive/GDFlix to /content/drive/MyDrive/Videos hdr\n",
            "Moved IMG_0423.MOV from /content/drive/MyDrive/GDFlix to /content/drive/MyDrive/Videos hdr\n",
            "Moved IMG_0359.MOV from /content/drive/MyDrive/GDFlix to /content/drive/MyDrive/Videos hdr\n",
            "Moved IMG_0575.MOV from /content/drive/MyDrive/GDFlix to /content/drive/MyDrive/Videos hdr\n",
            "Moved 1719574416383243.mp4 from /content/drive/MyDrive/GDFlix to /content/drive/MyDrive/Videos hdr\n",
            "Moved IMG_0578.MOV from /content/drive/MyDrive/GDFlix to /content/drive/MyDrive/Videos hdr\n",
            "Moved IMG_0088.MOV from /content/drive/MyDrive/GDFlix to /content/drive/MyDrive/Videos hdr\n",
            "Moved IMG_0236.MOV from /content/drive/MyDrive/GDFlix to /content/drive/MyDrive/Videos hdr\n",
            "Moved IMG_0355.MOV from /content/drive/MyDrive/GDFlix to /content/drive/MyDrive/Videos hdr\n",
            "Moved IMG_0577.MOV from /content/drive/MyDrive/GDFlix to /content/drive/MyDrive/Videos hdr\n",
            "Moved A001_03061803_C008.mov from /content/drive/MyDrive/GDFlix to /content/drive/MyDrive/Videos hdr\n",
            "Moved IMG_0576.MOV from /content/drive/MyDrive/GDFlix to /content/drive/MyDrive/Videos hdr\n",
            "Moved IMG_0087.MOV from /content/drive/MyDrive/GDFlix to /content/drive/MyDrive/Videos hdr\n",
            "Moved A001_03020713_C004.mov from /content/drive/MyDrive/GDFlix to /content/drive/MyDrive/Videos hdr\n",
            "Moved A001_03061804_C010.mov from /content/drive/MyDrive/GDFlix to /content/drive/MyDrive/Videos hdr\n",
            "Moved A001_03061803_C009.mov from /content/drive/MyDrive/GDFlix to /content/drive/MyDrive/Videos hdr\n",
            "Moved A001_03061800_C005.mov from /content/drive/MyDrive/GDFlix to /content/drive/MyDrive/Videos hdr\n",
            "Moved A001_02291840_C003.mov from /content/drive/MyDrive/GDFlix to /content/drive/MyDrive/Videos hdr\n",
            "Moved The Boys (2024) S04E08 2160p AMZN WEB-DL [Hindi DDP5.1 + English DDP5.1] H.265 (XEBEC-Ionicboy).mkv from /content/drive/MyDrive/GDFlix to /content/drive/MyDrive/Videos hdr\n",
            "Total time taken: 0.06 seconds\n",
            "Operation completed.\n"
          ]
        }
      ],
      "source": [
        "\n",
        "\n",
        "\n",
        "def move_or_copy_files(src_folders, dest_folder, operation):\n",
        "    start_time = time.time()\n",
        "\n",
        "\n",
        "    if not os.path.exists(dest_folder):\n",
        "        os.makedirs(dest_folder)\n",
        "\n",
        "\n",
        "    for src_folder in src_folders:\n",
        "\n",
        "        if not os.path.exists(src_folder):\n",
        "            print(f\"Source folder {src_folder} does not exist.\")\n",
        "            continue\n",
        "\n",
        "\n",
        "        for filename in os.listdir(src_folder):\n",
        "            src_path = os.path.join(src_folder, filename)\n",
        "            dest_path = os.path.join(dest_folder, filename)\n",
        "\n",
        "            if operation == 'move':\n",
        "                shutil.move(src_path, dest_path)\n",
        "                print(f'Moved {filename} from {src_folder} to {dest_folder}')\n",
        "            elif operation == 'copy':\n",
        "                shutil.copy2(src_path, dest_path)\n",
        "                print(f'Copied {filename} from {src_folder} to {dest_folder}')\n",
        "\n",
        "    end_time = time.time()\n",
        "    elapsed_time = end_time - start_time\n",
        "    print(f'Total time taken: {elapsed_time:.2f} seconds')\n",
        "\n",
        "\n",
        "current_folders = [\n",
        "    \"/content/drive/MyDrive/GDFlix\",\n",
        "    \"/content/drive/MyDrive/GDFlix1\",\n",
        "    \"/content/drive/MyDrive/GDFlix2\",\n",
        "\n",
        "]\n",
        "dest_folder = \"/content/drive/MyDrive/Videos hdr\"\n",
        "operation = \"move\"  # Set to either 'move' or 'copy'\n",
        "\n",
        "\n",
        "move_or_copy_files(current_folders, dest_folder, operation)\n",
        "\n",
        "print('Operation completed.')\n"
      ]
    }
  ]
}
